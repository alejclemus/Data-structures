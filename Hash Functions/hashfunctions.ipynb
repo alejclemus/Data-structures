{
 "cells": [
  {
   "cell_type": "markdown",
   "metadata": {},
   "source": [
    "# Hashing Functions\n",
    "\n",
    "## Pearson hashing\n",
    "\n",
    "- Designed for fast execution on processors with 8-bit registers.\n",
    "- Given an input consisting of any number of bytes, it produces as output a single byte that is strongly dependent on every byte of the input. \n",
    "- Its implementation requires only a few instructions, plus a 256-byte lookup table containing a permutation of the values 0 through 255. \n",
    "\n",
    "***\n",
    "\n",
    "#### Algorithm"
   ]
  },
  {
   "cell_type": "raw",
   "metadata": {},
   "source": [
    "h := 0\n",
    "for each c in C loop\n",
    "  h := T[ h xor c ]\n",
    "end loop\n",
    "return h"
   ]
  },
  {
   "cell_type": "markdown",
   "metadata": {},
   "source": [
    "***\n",
    "#### Benefits\n",
    "- It is extremely simple.\n",
    "- It executes quickly on resource-limited processors.\n",
    "- There is no simple class of inputs for which collisions (identical outputs) are especially likely.\n",
    "- Given a small, privileged set of inputs (e.g., reserved words for a compiler), the permutation table can be adjusted so that those inputs yield distinct hash values, producing what is called a perfect hash function.\n",
    "- Two input strings differing by exactly one character never collide.It is extremely simple.\n",
    "***\n",
    "#### Disadvantage\n",
    "The suggested 256 byte lookup table can be prohibitively large for a small microcontroller with a program memory size on the order of hundreds of bytes.\n",
    "***\n",
    "#### Applications\n",
    "Useful for implementing hash tables or as a data integrity check code\n",
    "\n",
    "\n",
    "## Fowler–Noll–Vo hash function\n",
    "#### Algorithm"
   ]
  },
  {
   "cell_type": "raw",
   "metadata": {},
   "source": [
    "   hash = FNV_offset_basis\n",
    "   for each byte_of_data to be hashed\n",
    "   \thash = hash × FNV_prime\n",
    "   \thash = hash XOR byte_of_data\n",
    "   return hash"
   ]
  },
  {
   "cell_type": "markdown",
   "metadata": {},
   "source": [
    "***\n",
    "#### Benefit\n",
    "-  It is very simple to implement\n",
    "***\n",
    "#### Disadvantage\n",
    "- The speed makes finding specific hash values (collisions) by brute force faster.\n",
    "- The algorithm is sensitive to the number zero. Specifically, if the hash value were to become zero at any point during calculation, and the next byte hashed were also all zeroes, the hash would not change.\n",
    "***\n",
    "#### Applications\n",
    "Designed for fast hash table and checksum use\n",
    "***\n",
    "## Zobrist hashing\n",
    "#### Algorithm"
   ]
  },
  {
   "cell_type": "raw",
   "metadata": {},
   "source": [
    " constant indices\n",
    "       white_pawn := 1\n",
    "       white_rook := 2\n",
    "       # etc.\n",
    "       black_king := 12\n",
    "   \n",
    "   function init_zobrist():\n",
    "       # fill a table of random numbers/bitstrings\n",
    "       table := a 2-d array of size 64×12\n",
    "       for i from 1 to 64:  # loop over the board, represented as a linear array\n",
    "           for j from 1 to 12:      # loop over the pieces\n",
    "               table[i][j] = random_bitstring()\n",
    "   \n",
    "   function hash(board):\n",
    "       h := 0\n",
    "       for i from 1 to 64:      # loop over the board positions\n",
    "           if board[i] != empty:\n",
    "               j := the piece at board[i], as listed in the constant indices, above\n",
    "               h := h XOR table[i][j]\n",
    "       return h"
   ]
  },
  {
   "cell_type": "markdown",
   "metadata": {},
   "source": [
    "***\n",
    "#### Benefit\n",
    "-  1\n",
    "***\n",
    "#### Disadvantage\n",
    "- 1\n",
    "***\n",
    "#### Applications\n",
    "1\n",
    "***\n",
    "## MD5\n",
    "#### Algorithm"
   ]
  },
  {
   "cell_type": "raw",
   "metadata": {},
   "source": []
  },
  {
   "cell_type": "markdown",
   "metadata": {},
   "source": [
    "***\n",
    "#### Benefit\n",
    "- 1 \n",
    "***\n",
    "#### Disadvantage\n",
    "- 1\n",
    "***\n",
    "#### Applications\n",
    "1\n",
    "***\n",
    "## Jenkins Hash Function\n",
    "#### Algorithm"
   ]
  },
  {
   "cell_type": "markdown",
   "metadata": {},
   "source": []
  },
  {
   "cell_type": "markdown",
   "metadata": {},
   "source": [
    "***\n",
    "#### Benefit\n",
    "- 1 \n",
    "***\n",
    "#### Disadvantage\n",
    "- 1\n",
    "***\n",
    "#### Applications\n",
    "1\n",
    "***\n",
    "## My Function"
   ]
  },
  {
   "cell_type": "raw",
   "metadata": {},
   "source": []
  }
 ],
 "metadata": {
  "kernelspec": {
   "display_name": "Python 3",
   "language": "python",
   "name": "python3"
  },
  "language_info": {
   "codemirror_mode": {
    "name": "ipython",
    "version": 3
   },
   "file_extension": ".py",
   "mimetype": "text/x-python",
   "name": "python",
   "nbconvert_exporter": "python",
   "pygments_lexer": "ipython3",
   "version": "3.7.1"
  }
 },
 "nbformat": 4,
 "nbformat_minor": 2
}
